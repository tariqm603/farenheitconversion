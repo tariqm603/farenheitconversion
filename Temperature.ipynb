{
  "nbformat": 4,
  "nbformat_minor": 0,
  "metadata": {
    "colab": {
      "provenance": [],
      "authorship_tag": "ABX9TyP6v14qfc6DM4bQHZnjMkNG",
      "include_colab_link": true
    },
    "kernelspec": {
      "name": "python3",
      "display_name": "Python 3"
    },
    "language_info": {
      "name": "python"
    }
  },
  "cells": [
    {
      "cell_type": "markdown",
      "metadata": {
        "id": "view-in-github",
        "colab_type": "text"
      },
      "source": [
        "<a href=\"https://colab.research.google.com/github/tariqm603/farenheitconversion/blob/main/Temperature.ipynb\" target=\"_parent\"><img src=\"https://colab.research.google.com/assets/colab-badge.svg\" alt=\"Open In Colab\"/></a>"
      ]
    },
    {
      "cell_type": "code",
      "execution_count": null,
      "metadata": {
        "colab": {
          "base_uri": "https://localhost:8080/"
        },
        "id": "8-95rQkXYMLb",
        "outputId": "a1c5e7b9-64af-4fff-92c5-d6a69c7c8d6c"
      },
      "outputs": [
        {
          "output_type": "stream",
          "name": "stdout",
          "text": [
            "98.6°F is equal to 37.00°C\n",
            "37°C is equal to 98.60°F\n"
          ]
        }
      ],
      "source": [
        "# Function to convert Fahrenheit to Celsius\n",
        "def fahrenheit_to_celsius(fahrenheit):\n",
        "    celsius = (fahrenheit - 32) * 5 / 9\n",
        "    return celsius\n",
        "\n",
        "# Function to convert Celsius to Fahrenheit\n",
        "def celsius_to_fahrenheit(celsius):\n",
        "    fahrenheit = (celsius * 9 / 5) + 32\n",
        "    return fahrenheit\n",
        "\n",
        "# Example usage:\n",
        "f = 98.6  # Example temperature in Fahrenheit\n",
        "c = 37  # Example temperature in Celsius\n",
        "\n",
        "print(f\"{f}°F is equal to {fahrenheit_to_celsius(f):.2f}°C\")\n",
        "print(f\"{c}°C is equal to {celsius_to_fahrenheit(c):.2f}°F\")\n"
      ]
    },
    {
      "cell_type": "code",
      "source": [
        "# Function to convert Fahrenheit to Celsius\n",
        "def fahrenheit_to_celsius(fahrenheit):\n",
        "    celsius = (fahrenheit - 32) * 5 / 9\n",
        "    return celsius\n",
        "\n",
        "# Function to convert Celsius to Fahrenheit\n",
        "def celsius_to_fahrenheit(celsius):\n",
        "    fahrenheit = (celsius * 9 / 5) + 32\n",
        "    return fahrenheit\n",
        "\n",
        "# Taking Fahrenheit input from the user\n",
        "fahrenheit_input = float(input(\"Enter temperature in Fahrenheit: \"))\n",
        "# Converting to Celsius\n",
        "converted_celsius = fahrenheit_to_celsius(fahrenheit_input)\n",
        "print(f\"{fahrenheit_input}°F is equal to {converted_celsius:.2f}°C\")\n",
        "\n",
        "# Taking Celsius input from the user\n",
        "celsius_input = float(input(\"Enter temperature in Celsius: \"))\n",
        "# Converting to Fahrenheit\n",
        "converted_fahrenheit = celsius_to_fahrenheit(celsius_input)\n",
        "print(f\"{celsius_input}°C is equal to {converted_fahrenheit:.2f}°F\")\n"
      ],
      "metadata": {
        "colab": {
          "base_uri": "https://localhost:8080/"
        },
        "id": "qIdfq7Wucjjh",
        "outputId": "6d051b09-5a53-41ce-a248-ba5ec7613286"
      },
      "execution_count": 3,
      "outputs": [
        {
          "output_type": "stream",
          "name": "stdout",
          "text": [
            "Enter temperature in Fahrenheit: 70\n",
            "70.0°F is equal to 21.11°C\n",
            "Enter temperature in Celsius: 37\n",
            "37.0°C is equal to 98.60°F\n"
          ]
        }
      ]
    }
  ]
}